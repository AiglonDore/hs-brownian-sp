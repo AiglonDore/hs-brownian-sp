{
 "cells": [
  {
   "attachments": {},
   "cell_type": "markdown",
   "metadata": {},
   "source": [
    "# Brownian motion simulation\n",
    "We want here to simulate a regular Brownian motion.\n",
    "Then, we will try to simulate a fractional Brownian motion.\n",
    "We also want to study the time required to make all these simulations.\n",
    "## Importing packages"
   ]
  },
  {
   "cell_type": "code",
   "execution_count": null,
   "metadata": {},
   "outputs": [],
   "source": [
    "import numpy as np\n",
    "import matplotlib.pyplot as plt\n",
    "from scipy.integrate import quad\n",
    "%matplotlib inline"
   ]
  },
  {
   "attachments": {},
   "cell_type": "markdown",
   "metadata": {},
   "source": [
    "## Some global simulation parameters"
   ]
  },
  {
   "cell_type": "code",
   "execution_count": null,
   "metadata": {},
   "outputs": [],
   "source": [
    "N = 100  # Nombre de points de discrétisation\n",
    "\n",
    "time = np.linspace(10**-5, 10, N)  # Temps de discrétisation"
   ]
  },
  {
   "attachments": {},
   "cell_type": "markdown",
   "metadata": {},
   "source": [
    "## Simulating a regular Brownian motion"
   ]
  },
  {
   "cell_type": "code",
   "execution_count": null,
   "metadata": {},
   "outputs": [],
   "source": [
    "plt.figure(figsize=(15, 9))\n",
    "plt.title('Simulating regular Brownian Motion')\n",
    "\n",
    "for n in range(5):\n",
    "    W = [0]\n",
    "    for i in range(1,N):\n",
    "        W.append(W[i-1] + np.random.normal(0, 1))\n",
    "    plt.plot(time, W, label=f'W{n+1}')\n",
    "\n",
    "plt.legend()\n",
    "plt.show()"
   ]
  },
  {
   "attachments": {},
   "cell_type": "markdown",
   "metadata": {},
   "source": [
    "## Simulating a fractional Brownian motion\n",
    "Now, we are going to simulate a fractional Brownian motion.\n",
    "For that, we know:\n",
    "$$\\operatorname{Cov}(X_t, X_s) = \\frac12 \\left(t^{2\\alpha} + s^{2\\alpha} - \\left|t-s\\right|^{2\\alpha}\\right)$$\n",
    "where $\\alpha$ is the Hurst parameter.\n",
    "- If $\\alpha=\\frac 12$, then we have a regular Brownian motion.\n",
    "- If $\\alpha<\\frac12$, then all increments are negatively correlated.\n",
    "- If $\\alpha>\\frac12$, then all increments are positively correlated.\n",
    "\n",
    "Then, we will use the Cholesky decomposition to simulate a fractional Brownian motion.\n",
    "\n",
    "How ever, when we have exactly $t=s=0$, then the covariance is not defined, as have $\\sigma^2_{W_0}=0$.\n",
    "So we will start from $t=s=10^{-5}$."
   ]
  },
  {
   "cell_type": "code",
   "execution_count": null,
   "metadata": {},
   "outputs": [],
   "source": [
    "alphas = [0.3, 0.5, 0.8]  # Quelques valeurs de alpha\n",
    "\n",
    "for alpha in alphas:\n",
    "    plt.figure(figsize=(15, 9))\n",
    "    plt.title(f'Simulating Fractionnal Brownian Motion with alpha = {alpha}')\n",
    "    mat_cov = np.zeros((N, N))\n",
    "\n",
    "    for t in range(N):\n",
    "        for s in range(N):\n",
    "            if (s > t):\n",
    "                break\n",
    "            mat_cov[t, s] = 0.5 * (time[t] ** (2 * alpha) + time[s] **\n",
    "                                (2 * alpha) - np.abs(time[t] - time[s]) ** (2 * alpha))\n",
    "            mat_cov[s,t] = mat_cov[t,s]\n",
    "\n",
    "    C = np.linalg.cholesky(mat_cov)\n",
    "\n",
    "    for i in range(5):\n",
    "        Y = np.dot(C, np.random.normal(0, 1, N))\n",
    "        Y[0] = 0\n",
    "        plt.plot(time, Y, label=f'W{i+1}')\n",
    "    plt.legend()\n",
    "    plt.show()"
   ]
  },
  {
   "attachments": {},
   "cell_type": "markdown",
   "metadata": {},
   "source": [
    "## Riemann-Liouville Brownian motion"
   ]
  },
  {
   "cell_type": "code",
   "execution_count": null,
   "metadata": {},
   "outputs": [],
   "source": [
    "for alpha in alphas:\n",
    "    plt.figure(figsize=(15, 9))\n",
    "    plt.title(f'Simulating Riemann-Liouville Brownian Motion with alpha = {alpha}')\n",
    "    mat_cov = np.zeros((N, N))\n",
    "\n",
    "    for t in range(N):\n",
    "        for s in range(N):\n",
    "            if (s > t):\n",
    "                break\n",
    "            mat_cov[t, s] = quad(lambda x: (time[t] - x) ** (alpha - 0.5) * (time[s] - x) ** (alpha - 0.5), 0, time[s])[0]\n",
    "            mat_cov[s, t] = mat_cov[t, s]\n",
    "    \n",
    "    C = np.linalg.cholesky(mat_cov)\n",
    "\n",
    "    for i in range(5):\n",
    "        Y = np.dot(C, np.random.normal(0, 1, N))\n",
    "        Y[0] = 0\n",
    "        plt.plot(time, Y, label=f'W{i+1}')\n",
    "    plt.legend()\n",
    "    plt.show()"
   ]
  },
  {
   "attachments": {},
   "cell_type": "markdown",
   "metadata": {},
   "source": [
    "We here notice that the last simulation takes a lot of time."
   ]
  }
 ],
 "metadata": {
  "kernelspec": {
   "display_name": "Python 3",
   "language": "python",
   "name": "python3"
  },
  "language_info": {
   "codemirror_mode": {
    "name": "ipython",
    "version": 3
   },
   "file_extension": ".py",
   "mimetype": "text/x-python",
   "name": "python",
   "nbconvert_exporter": "python",
   "pygments_lexer": "ipython3",
   "version": "3.11.2"
  },
  "orig_nbformat": 4
 },
 "nbformat": 4,
 "nbformat_minor": 2
}
