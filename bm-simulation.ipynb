{
 "cells": [
  {
   "attachments": {},
   "cell_type": "markdown",
   "metadata": {},
   "source": [
    "# Brownian motion simulation\n",
    "We want here to simulate a regular Brownian motion.\n",
    "Then, we will try to simulate a fractional Brownian motion.\n",
    "We also want to study the time required to make all these simulations.\n",
    "## Importing packages"
   ]
  },
  {
   "cell_type": "code",
   "execution_count": null,
   "metadata": {},
   "outputs": [],
   "source": [
    "import numpy as np\n",
    "import matplotlib.pyplot as plt\n",
    "from scipy.integrate import quad\n",
    "from time import perf_counter\n",
    "%matplotlib inline"
   ]
  },
  {
   "attachments": {},
   "cell_type": "markdown",
   "metadata": {},
   "source": [
    "## Some global simulation parameters"
   ]
  },
  {
   "cell_type": "code",
   "execution_count": null,
   "metadata": {},
   "outputs": [],
   "source": [
    "N = 1000  # Number of time steps\n",
    "times = []  # TImes for each simulation\n",
    "time = np.linspace(10**-5, 10, N)  # Time array"
   ]
  },
  {
   "attachments": {},
   "cell_type": "markdown",
   "metadata": {},
   "source": [
    "## Simulating a regular Brownian motion"
   ]
  },
  {
   "cell_type": "code",
   "execution_count": null,
   "metadata": {},
   "outputs": [],
   "source": [
    "plt.figure(figsize=(15, 9))\n",
    "plt.title('Simulating regular Brownian Motion')\n",
    "\n",
    "t1 = perf_counter()\n",
    "\n",
    "for n in range(5):\n",
    "    W = [0]\n",
    "    for i in range(1,N):\n",
    "        W.append(W[i-1] + np.random.normal(0, 1))\n",
    "    plt.plot(time, W, label=f'W{n+1}')\n",
    "\n",
    "t2 = perf_counter()\n",
    "print(f'Elapsed time for N = {N}: {t2-t1} s')\n",
    "times.append(t2-t1)\n",
    "plt.legend()\n",
    "plt.show()"
   ]
  },
  {
   "attachments": {},
   "cell_type": "markdown",
   "metadata": {},
   "source": [
    "## Simulating a fractional Brownian motion\n",
    "Now, we are going to simulate a fractional Brownian motion.\n",
    "For that, we know:\n",
    "$$\\operatorname{Cov}(X_t, X_s) = \\frac12 \\left(t^{2\\alpha} + s^{2\\alpha} - \\left|t-s\\right|^{2\\alpha}\\right)$$\n",
    "where $\\alpha$ is the Hurst parameter.\n",
    "- If $\\alpha=\\frac 12$, then we have a regular Brownian motion.\n",
    "- If $\\alpha<\\frac12$, then all increments are negatively correlated.\n",
    "- If $\\alpha>\\frac12$, then all increments are positively correlated.\n",
    "\n",
    "Then, we will use the Cholesky decomposition to simulate a fractional Brownian motion.\n",
    "\n",
    "How ever, when we have exactly $t=s=0$, then the covariance is not defined, as have $\\sigma^2_{W_0}=0$.\n",
    "So we will start from $t=s=10^{-5}$."
   ]
  },
  {
   "cell_type": "code",
   "execution_count": null,
   "metadata": {},
   "outputs": [],
   "source": [
    "alphas = [np.random.random() / 2, np.random.random() / 2, 0.5, 0.5 + np.random.random() / 2, 0.5 + np.random.random() / 2]  # Values for alpha\n",
    "alphas.sort()\n",
    "print(f'Values for alpha: {alphas}.')"
   ]
  },
  {
   "cell_type": "code",
   "execution_count": null,
   "metadata": {},
   "outputs": [],
   "source": [
    "tmp = []\n",
    "X_frac = {}\n",
    "\n",
    "for alpha in alphas:\n",
    "    Y_list = []\n",
    "    plt.figure(figsize=(15, 9))\n",
    "    plt.title(f'Simulating Fractionnal Brownian Motion with alpha = {alpha}')\n",
    "    mat_cov = np.zeros((N, N))\n",
    "    t1 = perf_counter()\n",
    "    for t in range(N):\n",
    "        for s in range(N):\n",
    "            if (s > t):\n",
    "                break\n",
    "            mat_cov[t, s] = 0.5 * (time[t] ** (2 * alpha) + time[s] **\n",
    "                                (2 * alpha) - np.abs(time[t] - time[s]) ** (2 * alpha))\n",
    "            mat_cov[s,t] = mat_cov[t,s]\n",
    "\n",
    "    C = np.linalg.cholesky(mat_cov)\n",
    "\n",
    "    for i in range(5):\n",
    "        Y = np.dot(C, np.random.normal(0, 1, N))\n",
    "        Y[0] = 0\n",
    "        plt.plot(time, Y, label=f'W{i+1}')\n",
    "        Y_list.append(Y)\n",
    "    t2 = perf_counter()\n",
    "    \n",
    "    \n",
    "    print(f'Elapsed time for N = {N} and alpha = {alpha}: {t2-t1} s')\n",
    "    tmp.append(t2-t1)\n",
    "    plt.legend()\n",
    "    plt.show()\n",
    "    X_frac[alpha] = Y_list\n",
    "\n",
    "times.append(np.mean(tmp))"
   ]
  },
  {
   "attachments": {},
   "cell_type": "markdown",
   "metadata": {},
   "source": [
    "## Riemann-Liouville Brownian motion"
   ]
  },
  {
   "cell_type": "code",
   "execution_count": null,
   "metadata": {},
   "outputs": [],
   "source": [
    "tmp = []\n",
    "X_riem = {}\n",
    "for alpha in alphas:\n",
    "    Y_list = []\n",
    "    plt.figure(figsize=(15, 9))\n",
    "    plt.title(f'Simulating Riemann-Liouville Brownian Motion with alpha = {alpha}')\n",
    "    mat_cov = np.zeros((N, N))\n",
    "    \n",
    "    t1 = perf_counter()\n",
    "\n",
    "    for t in range(N):\n",
    "        for s in range(N):\n",
    "            if (s > t):\n",
    "                break\n",
    "            mat_cov[t, s] = quad(lambda x: (time[t] - x) ** (alpha - 0.5) * (time[s] - x) ** (alpha - 0.5), 0, time[s])[0] # Computing the integral\n",
    "            mat_cov[s, t] = mat_cov[t, s]\n",
    "    \n",
    "    C = np.linalg.cholesky(mat_cov)\n",
    "\n",
    "    for i in range(5):\n",
    "        Y = np.dot(C, np.random.normal(0, 1, N))\n",
    "        Y[0] = 0\n",
    "        plt.plot(time, Y, label=f'W{i+1}')\n",
    "        Y_list.append(Y)\n",
    "        \n",
    "    t2 = perf_counter()\n",
    "    print(f'Elapsed time for N = {N} and alpha = {alpha}: {t2-t1} s')\n",
    "    tmp.append(t2-t1)\n",
    "    plt.legend()\n",
    "    plt.show()\n",
    "    X_riem[alpha] = Y_list\n",
    "\n",
    "rl_time = tmp[:]\n",
    "\n",
    "times.append(np.mean(tmp))\n",
    "del tmp"
   ]
  },
  {
   "attachments": {},
   "cell_type": "markdown",
   "metadata": {},
   "source": [
    "We here notice that the last simulation takes a lot of time."
   ]
  },
  {
   "attachments": {},
   "cell_type": "markdown",
   "metadata": {},
   "source": [
    "## Time required to simulate a Brownian motion\n",
    "Here, we are going to plot the mean time required to simulate a Brownian motion of size $n=1000$."
   ]
  },
  {
   "cell_type": "code",
   "execution_count": null,
   "metadata": {},
   "outputs": [],
   "source": [
    "names = ['Regular Brownian Motion', 'Fractionnal Brownian Motion', 'Riemann-Liouville Brownian Motion']\n",
    "plt.figure(figsize=(15, 9))\n",
    "plt.title(f'Time of computation for N = {N}')\n",
    "plt.barh(names, times, color='blue')\n",
    "plt.show()"
   ]
  },
  {
   "attachments": {},
   "cell_type": "markdown",
   "metadata": {},
   "source": [
    "We also want to plot the times for the Rieman-Liouville Brownian motion, depending on $\\alpha$."
   ]
  },
  {
   "cell_type": "code",
   "execution_count": null,
   "metadata": {},
   "outputs": [],
   "source": [
    "plt.figure(figsize=(15, 9))\n",
    "plt.title(f'Time required reagarding the value of alpha')\n",
    "print(times[2])\n",
    "plt.scatter(alphas, rl_time, color='blue')\n",
    "plt.show()"
   ]
  },
  {
   "attachments": {},
   "cell_type": "markdown",
   "metadata": {},
   "source": [
    "## Change of frequency for fractional Brownian motion"
   ]
  },
  {
   "cell_type": "code",
   "execution_count": null,
   "metadata": {},
   "outputs": [],
   "source": [
    "for alpha in alphas:\n",
    "    L = []\n",
    "    for X in X_frac[alpha]:\n",
    "        s1 = 0\n",
    "        s2 = 0\n",
    "        for i in range(5,len(X)):\n",
    "            s1 += np.abs(X[i] - 2 * X[i - 2] + X[i - 4]) ** 2\n",
    "        for i in range(3,len(X)):\n",
    "            s2 += np.abs(X[i] - 2 * X[i - 1] + X[i - 2]) ** 2\n",
    "        L.append(np.log(s1 / s2) / (2 * np.log(2)) - alpha)\n",
    "    print(f'For alpha = {alpha}: centered mean={np.mean(L)} and standard deviation={np.std(L)}')"
   ]
  },
  {
   "attachments": {},
   "cell_type": "markdown",
   "metadata": {},
   "source": [
    "This confirms that our model is correct, even if it's not highly efficient.\n",
    "## Change of frequency for Riemann-Liouville Brownian motion"
   ]
  },
  {
   "cell_type": "code",
   "execution_count": null,
   "metadata": {},
   "outputs": [],
   "source": [
    "for alpha in alphas:\n",
    "    L = []\n",
    "    for X in X_riem[alpha]:\n",
    "        s1 = 0\n",
    "        s2 = 0\n",
    "        for i in range(5,len(X)):\n",
    "            s1 += np.abs(X[i] - 2 * X[i - 2] + X[i - 4]) ** 2\n",
    "        for i in range(3,len(X)):\n",
    "            s2 += np.abs(X[i] - 2 * X[i - 1] + X[i - 2]) ** 2\n",
    "        L.append(np.log(s1 / s2) / (2 * np.log(2)) - alpha)\n",
    "    print(f'For alpha = {alpha}: centered mean={np.mean(L)} and standard deviation={np.std(L)}')"
   ]
  },
  {
   "attachments": {},
   "cell_type": "markdown",
   "metadata": {},
   "source": [
    "This confirms that our model is correct, even if it's not highly efficient."
   ]
  }
 ],
 "metadata": {
  "kernelspec": {
   "display_name": "Python 3",
   "language": "python",
   "name": "python3"
  },
  "language_info": {
   "codemirror_mode": {
    "name": "ipython",
    "version": 3
   },
   "file_extension": ".py",
   "mimetype": "text/x-python",
   "name": "python",
   "nbconvert_exporter": "python",
   "pygments_lexer": "ipython3",
   "version": "3.11.2"
  },
  "orig_nbformat": 4
 },
 "nbformat": 4,
 "nbformat_minor": 2
}
