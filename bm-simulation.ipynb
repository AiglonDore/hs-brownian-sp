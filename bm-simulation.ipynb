{
 "cells": [
  {
   "attachments": {},
   "cell_type": "markdown",
   "metadata": {},
   "source": [
    "# Brownian motion simulation\n",
    "We want here to simulate a regular Brownian motion.\n",
    "Then, we will try to simulate a fractional Brownian motion.\n",
    "We also want to study the time required to make all these simulations.\n",
    "## Importing packages"
   ]
  },
  {
   "cell_type": "code",
   "execution_count": null,
   "metadata": {},
   "outputs": [],
   "source": [
    "import numpy as np\n",
    "import matplotlib.pyplot as plt\n",
    "from scipy.integrate import quad\n",
    "from time import perf_counter\n",
    "from scipy.special import hyp2f1\n",
    "from typing import Callable\n",
    "%matplotlib inline"
   ]
  },
  {
   "attachments": {},
   "cell_type": "markdown",
   "metadata": {},
   "source": [
    "## Some global simulation parameters"
   ]
  },
  {
   "cell_type": "code",
   "execution_count": null,
   "metadata": {},
   "outputs": [],
   "source": [
    "N = 1000  # Number of time steps\n",
    "times = []  # TImes for each simulation\n",
    "time = np.linspace(10**-5, 10, N)  # Time array"
   ]
  },
  {
   "attachments": {},
   "cell_type": "markdown",
   "metadata": {},
   "source": [
    "## Simulating a regular Brownian motion"
   ]
  },
  {
   "cell_type": "code",
   "execution_count": null,
   "metadata": {},
   "outputs": [],
   "source": [
    "plt.figure(figsize=(15, 9))\n",
    "plt.title('Simulating regular Brownian Motion')\n",
    "\n",
    "t1 = perf_counter()\n",
    "\n",
    "for n in range(5):\n",
    "    W = [0]\n",
    "    for i in range(1,N):\n",
    "        W.append(W[i-1] + np.random.normal(0, 1))\n",
    "    plt.plot(time, W, label=f'W{n+1}')\n",
    "\n",
    "t2 = perf_counter()\n",
    "print(f'Elapsed time for N = {N}: {t2-t1} s')\n",
    "times.append(t2-t1)\n",
    "plt.legend()\n",
    "plt.show()"
   ]
  },
  {
   "attachments": {},
   "cell_type": "markdown",
   "metadata": {},
   "source": [
    "## Simulating a fractional Brownian motion\n",
    "Now, we are going to simulate a fractional Brownian motion.\n",
    "For that, we know:\n",
    "$$\\operatorname{Cov}(X_t, X_s) = \\frac12 \\left(t^{2\\alpha} + s^{2\\alpha} - \\left|t-s\\right|^{2\\alpha}\\right)$$\n",
    "where $\\alpha$ is the Hurst parameter.\n",
    "- If $\\alpha=\\frac 12$, then we have a regular Brownian motion.\n",
    "- If $\\alpha<\\frac12$, then all increments are negatively correlated.\n",
    "- If $\\alpha>\\frac12$, then all increments are positively correlated.\n",
    "\n",
    "Then, we will use the Cholesky decomposition to simulate a fractional Brownian motion.\n",
    "\n",
    "How ever, when we have exactly $t=s=0$, then the covariance is not defined, as have $\\sigma^2_{W_0}=0$.\n",
    "So we will start from $t=s=10^{-5}$."
   ]
  },
  {
   "cell_type": "code",
   "execution_count": null,
   "metadata": {},
   "outputs": [],
   "source": [
    "nb_alphas = 20  # Number of alphas to test\n",
    "\n",
    "if nb_alphas % 2 == 0:\n",
    "    nb_alphas += 1\n",
    "    \n",
    "alphas = []\n",
    "\n",
    "for _ in range(nb_alphas // 2):\n",
    "    alphas.append(np.random.uniform(0, 0.5))\n",
    "    \n",
    "alphas.append(0.5)\n",
    "\n",
    "for _ in range(nb_alphas // 2):\n",
    "    alphas.append(np.random.uniform(0.5, 1))\n",
    "    \n",
    "alphas.sort()\n",
    "alphas = np.array(alphas)\n",
    "print(f'Values for alpha: {alphas}.')\n",
    "print(f'Number of alphas: {len(alphas)}.')"
   ]
  },
  {
   "cell_type": "code",
   "execution_count": null,
   "metadata": {},
   "outputs": [],
   "source": [
    "tmp = []\n",
    "X_frac = {}\n",
    "\n",
    "for alpha in alphas:\n",
    "    Y_list = []\n",
    "    plt.figure(figsize=(15, 9))\n",
    "    plt.title(f'Simulating Fractionnal Brownian Motion with alpha = {alpha}')\n",
    "    mat_cov = np.zeros((N, N))\n",
    "    t1 = perf_counter()\n",
    "    for t in range(N):\n",
    "        for s in range(N):\n",
    "            if (s > t):\n",
    "                break\n",
    "            mat_cov[t, s] = 0.5 * (time[t] ** (2 * alpha) + time[s] **\n",
    "                                (2 * alpha) - np.abs(time[t] - time[s]) ** (2 * alpha))\n",
    "            mat_cov[s,t] = mat_cov[t,s]\n",
    "\n",
    "    C = np.linalg.cholesky(mat_cov)\n",
    "\n",
    "    for i in range(5):\n",
    "        Y = np.dot(C, np.random.normal(0, 1, N))\n",
    "        Y[0] = 0\n",
    "        plt.plot(time, Y, label=f'W{i+1}')\n",
    "        Y_list.append(Y)\n",
    "    t2 = perf_counter()\n",
    "    \n",
    "    \n",
    "    print(f'Elapsed time for N = {N} and alpha = {alpha}: {t2-t1} s')\n",
    "    tmp.append(t2-t1)\n",
    "    plt.legend()\n",
    "    plt.show()\n",
    "    X_frac[alpha] = Y_list\n",
    "\n",
    "times.append(np.mean(tmp))"
   ]
  },
  {
   "attachments": {},
   "cell_type": "markdown",
   "metadata": {},
   "source": [
    "## Riemann-Liouville Brownian motion"
   ]
  },
  {
   "cell_type": "code",
   "execution_count": null,
   "metadata": {},
   "outputs": [],
   "source": [
    "tmp = []\n",
    "X_riem = {}\n",
    "np.random.seed(42)\n",
    "for alpha in alphas:\n",
    "    Y_list = []\n",
    "    plt.figure(figsize=(15, 9))\n",
    "    plt.title(f'Simulating Riemann-Liouville Brownian Motion with alpha = {alpha}')\n",
    "    mat_cov = np.zeros((N, N))\n",
    "    \n",
    "    t1 = perf_counter()\n",
    "\n",
    "    for t in range(N):\n",
    "        for s in range(N):\n",
    "            if (s > t):\n",
    "                break\n",
    "            mat_cov[t, s] = quad(lambda x: (time[t] - x) ** (alpha - 0.5) * (time[s] - x) ** (alpha - 0.5), 0, time[s])[0] # Computing the integral\n",
    "            mat_cov[s, t] = mat_cov[t, s]\n",
    "    \n",
    "    C = np.linalg.cholesky(mat_cov)\n",
    "\n",
    "    for i in range(5):\n",
    "        Y = np.dot(C, np.random.normal(0, 1, N))\n",
    "        Y[0] = 0\n",
    "        plt.plot(time, Y, label=f'W{i+1}')\n",
    "        Y_list.append(Y)\n",
    "        \n",
    "    t2 = perf_counter()\n",
    "    print(f'Elapsed time for N = {N} and alpha = {alpha}: {t2-t1} s')\n",
    "    tmp.append(t2-t1)\n",
    "    plt.legend()\n",
    "    plt.show()\n",
    "    X_riem[alpha] = Y_list\n",
    "\n",
    "rl_time = tmp[:]\n",
    "\n",
    "times.append(np.mean(tmp))\n",
    "del tmp"
   ]
  },
  {
   "attachments": {},
   "cell_type": "markdown",
   "metadata": {},
   "source": [
    "We here notice that the last simulation takes a lot of time."
   ]
  },
  {
   "attachments": {},
   "cell_type": "markdown",
   "metadata": {},
   "source": [
    "## Time required to simulate a Brownian motion\n",
    "Here, we are going to plot the mean time required to simulate a Brownian motion of size $n=1000$."
   ]
  },
  {
   "cell_type": "code",
   "execution_count": null,
   "metadata": {},
   "outputs": [],
   "source": [
    "names = ['Regular Brownian Motion', 'Fractionnal Brownian Motion', 'Riemann-Liouville Brownian Motion']\n",
    "plt.figure(figsize=(15, 9))\n",
    "plt.title(f'Time of computation for N = {N}')\n",
    "plt.barh(names, times, color='blue')\n",
    "plt.show()"
   ]
  },
  {
   "attachments": {},
   "cell_type": "markdown",
   "metadata": {},
   "source": [
    "We also want to plot the times for the Rieman-Liouville Brownian motion, depending on $\\alpha$."
   ]
  },
  {
   "cell_type": "code",
   "execution_count": null,
   "metadata": {},
   "outputs": [],
   "source": [
    "plt.figure(figsize=(15, 9))\n",
    "plt.title(f'Time required regarding the value of alpha')\n",
    "plt.scatter(alphas, rl_time, color='blue')\n",
    "plt.show()"
   ]
  },
  {
   "attachments": {},
   "cell_type": "markdown",
   "metadata": {},
   "source": [
    "## Change of frequency for fractional Brownian motion"
   ]
  },
  {
   "cell_type": "code",
   "execution_count": null,
   "metadata": {},
   "outputs": [],
   "source": [
    "for alpha in alphas:\n",
    "    L = []\n",
    "    for X in X_frac[alpha]:\n",
    "        s1 = 0\n",
    "        s2 = 0\n",
    "        for i in range(5,len(X)):\n",
    "            s1 += np.abs(X[i] - 2 * X[i - 2] + X[i - 4]) ** 2\n",
    "        for i in range(3,len(X)):\n",
    "            s2 += np.abs(X[i] - 2 * X[i - 1] + X[i - 2]) ** 2\n",
    "        L.append(np.log(s1 / s2) / (2 * np.log(2)) - alpha)\n",
    "    print(f'For alpha = {alpha}: centered mean={np.mean(L)} and standard deviation={np.std(L)}')"
   ]
  },
  {
   "attachments": {},
   "cell_type": "markdown",
   "metadata": {},
   "source": [
    "This confirms that our model is correct, even if it's not highly efficient.\n",
    "## Change of frequency for Riemann-Liouville Brownian motion"
   ]
  },
  {
   "cell_type": "code",
   "execution_count": null,
   "metadata": {},
   "outputs": [],
   "source": [
    "for alpha in alphas:\n",
    "    L = []\n",
    "    for X in X_riem[alpha]:\n",
    "        s1 = 0\n",
    "        s2 = 0\n",
    "        for i in range(5,len(X)):\n",
    "            s1 += np.abs(X[i] - 2 * X[i - 2] + X[i - 4]) ** 2\n",
    "        for i in range(3,len(X)):\n",
    "            s2 += np.abs(X[i] - 2 * X[i - 1] + X[i - 2]) ** 2\n",
    "        L.append(np.log(s1 / s2) / (2 * np.log(2)) - alpha)\n",
    "    print(f'For alpha = {alpha}: centered mean={np.mean(L)} and standard deviation={np.std(L)}')"
   ]
  },
  {
   "attachments": {},
   "cell_type": "markdown",
   "metadata": {},
   "source": [
    "This confirms that our model is correct, even if it's not highly efficient."
   ]
  },
  {
   "attachments": {},
   "cell_type": "markdown",
   "metadata": {},
   "source": [
    "# Hybrid simulation\n",
    "We will try to make two simulations: one using the gamma kernel $g(x)=x^\\alpha\\exp(-\\lambda x)$, and the second using\n",
    "the power-law kernel function $g(x)=x^\\alpha (1+x)^{\\beta-\\alpha}$.\n",
    "We also define the less kernel $L_g$, depending on the kernel $g$, by:\n",
    "$$g(t-s)\\approx (t-s)^\\alpha L_g\\left(\\frac kn\\right)\\ \\text{avec}\\ t-s\\in\\left[\\frac{k-1}n;\\frac kn\\right]\\setminus\\{0\\}$$"
   ]
  },
  {
   "cell_type": "code",
   "execution_count": null,
   "metadata": {},
   "outputs": [],
   "source": [
    "def gamma_kernel(x : float, alpha : float, lambd : float) -> float:\n",
    "    \"\"\"Provides the gamma kernel\n",
    "\n",
    "    Args:\n",
    "        x (float): Value\n",
    "        alpha (float): Alpha parameter, between -0.5 and 0.5.\n",
    "        lambd (float): Lambda parameter, positive.\n",
    "\n",
    "    Returns:\n",
    "        float: Output of the kernel\n",
    "    \"\"\"\n",
    "    assert -0.5 < alpha < 0.5, 'Alpha must be between -0.5 and 0.5.'\n",
    "    assert lambd > 0, 'Lambda must be positive.'\n",
    "    return x ** alpha * np.exp(-lambd * x)\n",
    "\n",
    "def power_law_kernel(x: float, alpha : float, beta : float) -> float:\n",
    "    \"\"\"Provides the power law kernel\n",
    "\n",
    "    Args:\n",
    "        x (float): Value\n",
    "        alpha (float): Alpha parameter, between -0.5 and 0.5.\n",
    "        beta (float): Beta parameter, between -np.inf and -1/2\n",
    "\n",
    "    Returns:\n",
    "        float: Output of the kernel\n",
    "    \"\"\"\n",
    "    assert -0.5 < alpha < 0.5, 'Alpha must be between -0.5 and 0.5.'\n",
    "    assert beta < -0.5, 'Beta must be between -np.inf and -1/2'\n",
    "    return x ** alpha * (1 + x) ** (beta - alpha)\n",
    "\n",
    "def less_kernel(g : Callable[[float, tuple], float], k : int, n : int ,alpha : float, args : tuple) -> float:\n",
    "    \"\"\"Provides a less kernel, depending on the chosen kernel\n",
    "\n",
    "    Args:\n",
    "        g (Callable[[float, tuple], float]): _description_\n",
    "        alpha (float): Alpha parameter\n",
    "        k (int): Index\n",
    "        n: (int) : Number of points\n",
    "        args (tuple): Arguments of the kernel\n",
    "    Returns:\n",
    "        float: Value of the less kernel\n",
    "    \"\"\"\n",
    "    assert -0.5 < alpha < 0.5, 'Alpha must be between -0.5 and 0.5.'\n",
    "    assert 0 <= k < n, 'k must be inferior to n'\n",
    "    mean = np.mean([(k - 1) / n, k / n])\n",
    "    if np.abs(mean) <= 1e-6:\n",
    "        mean = 1e-6\n",
    "    return g(mean, alpha, *args) / (mean ** alpha)\n",
    "\n",
    "def beta_k_star(k : int, alpha : float) -> float:\n",
    "    \"\"\"Provides the value of beta_k_star\n",
    "\n",
    "    Args:\n",
    "        k (int): Index\n",
    "        alpha (float): Alpha parameter\n",
    "\n",
    "    Returns:\n",
    "        float: Value of beta_k_star\n",
    "    \"\"\"\n",
    "    assert -0.5 < alpha < 0.5, 'Alpha must be between -0.5 and 0.5.'\n",
    "    assert k > 0, 'k must be positive'\n",
    "    core = (k ** (alpha + 1) - (k - 1) ** (alpha + 1)) / (alpha + 1)\n",
    "    if alpha > 0:#Python cannot natively compute negative decimal exponents\n",
    "        return core ** (1 / alpha)\n",
    "    return 1 / (core ** (1 / alpha))"
   ]
  },
  {
   "attachments": {},
   "cell_type": "markdown",
   "metadata": {},
   "source": [
    "Now, we also need to simulate all the following random variables:\n",
    "- $\\displaystyle W^n_{i,j}=\\int_{\\frac in}^{\\frac{i+1}n}\\left(\\frac{i+j}n-s\\right)^\\alpha\\,\\mathrm dW_s$.\n",
    "- $\\displaystyle W_i^n=\\int_{\\frac in}^{\\frac{i+1}n}\\mathrm{d}W_s$."
   ]
  },
  {
   "cell_type": "code",
   "execution_count": null,
   "metadata": {},
   "outputs": [],
   "source": [
    "def Wnij(n: int, k : int, alpha: float = 0.5) -> np.ndarray[float]:\n",
    "    \"\"\"Generates a random variable following the distribution of W_{n,i,j}\n",
    "\n",
    "    Args:\n",
    "        n (int): Size of the sample\n",
    "        k (int): Size of the vector\n",
    "        alpha (float, optional): Alpha parameter. Defaults to 0.5.\n",
    "\n",
    "    Returns:\n",
    "        np.ndarray[float]: Returns a vector of size k + 1 that fits with the law.\n",
    "    \"\"\"\n",
    "    def build_cov_mat(k,n,alpha) -> np.ndarray[float]:\n",
    "        output = np.zeros((k+1,k+1))\n",
    "        cov_mat = np.zeros((k+1,k+1))\n",
    "        cov_mat[0,0] = 1 / n\n",
    "        for i in range(1,k+1):\n",
    "            cov_mat[0,i] = ((i) ** (alpha + 1) - (i - 1) ** (alpha + 1)) / ((alpha + 1) * n ** (alpha + 1))\n",
    "            cov_mat[i,0] = cov_mat[0,i]\n",
    "            cov_mat[i,i] = ((i) ** (2 * alpha + 1) - (i - 1) ** (2 * alpha + 1)) / ((2 * alpha + 1) * n ** (2 * alpha + 1))\n",
    "        for j in range(1,k+1):\n",
    "            for i in range(1,j):\n",
    "                if j == 1:\n",
    "                    cov_mat[i,j] = 1 / ((alpha + 1) * n ** (2 * alpha + 1)) * (\n",
    "                    i ** (alpha + 1) * j ** alpha *\n",
    "                    hyp2f1(-alpha,1,alpha + 2, i / j)\n",
    "                    )\n",
    "                    cov_mat[j,i] = cov_mat[i,j]\n",
    "                else:\n",
    "                    cov_mat[i,j] = 1 / ((alpha + 1) * n ** (2 * alpha + 1)) * (\n",
    "                    i ** (alpha + 1) * j ** alpha *\n",
    "                    hyp2f1(-alpha,1,alpha + 2, i / j) -\n",
    "                    (i - 1) ** (alpha + 1) * (j - 1) ** (alpha + 1) *\n",
    "                    hyp2f1(-alpha,1,alpha + 2, (i-1) / (j-1))\n",
    "                    )\n",
    "                    cov_mat[j,i] = cov_mat[i,j]\n",
    "        return cov_mat\n",
    "    output = np.zeros((k+1,k+1))\n",
    "    output[:,0] = np.random.normal(0, 1, k+1)\n",
    "    for i in range(2,k+1): \n",
    "        cov_mat = build_cov_mat(k,n,alpha)\n",
    "        W = np.dot(np.linalg.cholesky(cov_mat), np.random.normal(0, 1, cov_mat.shape[0]))\n",
    "        output[:,i] = W\n",
    "    return output\n",
    "\n",
    "def Wni(n: int) -> np.ndarray[float]:\n",
    "    \"\"\"Generates a normal sample of size n\n",
    "\n",
    "    Args:\n",
    "        n (int): Size of the sample\n",
    "\n",
    "    Returns:\n",
    "        np.ndarray[float]: Normal vector\n",
    "    \"\"\"\n",
    "    return np.random.normal(size = n)"
   ]
  },
  {
   "cell_type": "code",
   "execution_count": null,
   "metadata": {},
   "outputs": [],
   "source": [
    "Nn = 50\n",
    "\n",
    "def X_check(n: int, i: int, kappa: int, g : Callable[[float,tuple], float], alpha: float, W : np.ndarray, args: tuple = ()) -> float:\n",
    "    \"\"\"Computes the value of the variable X_check\n",
    "\n",
    "    Args:\n",
    "        n (int): Number of points\n",
    "        i (int): Index of the variable\n",
    "        kappa (int): Upper bound\n",
    "        g (Callable[[float,tuple], float]): Kernel\n",
    "        alpha (float): Alpha setting\n",
    "        W (np.ndarray): Matrix of random variables\n",
    "        args (tuple, optional): Arguments of the kernel. Defaults to ().\n",
    "\n",
    "    Returns:\n",
    "        float: Value of the first part of the variable\n",
    "    \"\"\"\n",
    "    return np.sum([less_kernel(g, k, n, alpha, args) * W[i-k + Nn,k] for k in range(1, kappa + 1)])\n",
    "\n",
    "def X_hat(n: int, i: int, kappa: int, g : Callable[[float,tuple], float], alpha: float, W  : np.ndarray, args: tuple = ()) -> float:\n",
    "    \"\"\"Computes the value of the variable X_hat\n",
    "\n",
    "    Args:\n",
    "        n (int): Number of points\n",
    "        i (int): Index of the variable\n",
    "        kappa (int): Lower bound\n",
    "        g (Callable[[float,tuple], float]): Kernel\n",
    "        alpha (float): Alpha setting\n",
    "        W (np.ndarray): Vector of random variables\n",
    "        args (tuple, optional): Arguments of the kernel. Defaults to ().\n",
    "\n",
    "    Returns:\n",
    "        float: Value of the second part of the variable\n",
    "    \"\"\"\n",
    "    return np.sum([g(beta_k_star(k,alpha), alpha, *args) * W[i-k + Nn] for k in range(kappa + 1, n)])\n",
    "\n",
    "def X_sum(n: int, i: int, kappa: int, g : Callable[[float,tuple], float], alpha: float, W1 : np.ndarray, W2 : np.ndarray, args: tuple = ()) -> float:\n",
    "    \"\"\"Computes the value of the variable X_sum\n",
    "\n",
    "    Args:\n",
    "        n (int): Number of points\n",
    "        i (int): Index of the variable\n",
    "        kappa (int): Lower bound\n",
    "        g (Callable[[float,tuple], float]): Kernel\n",
    "        alpha (float): Alpha setting\n",
    "        W1 (np.ndarray): Matrix of random variables\n",
    "        W2 (np.ndarray): Vector of random variables\n",
    "        args (tuple, optional): Arguments of the kernel. Defaults to ().\n",
    "\n",
    "    Returns:\n",
    "        float: Value of the variable\n",
    "    \"\"\"\n",
    "    return X_check(n, i, kappa, g, alpha, W1, args) + X_hat(n, i, kappa, g, alpha, W2, args)"
   ]
  },
  {
   "cell_type": "code",
   "execution_count": null,
   "metadata": {},
   "outputs": [],
   "source": [
    "kappa = 2\n",
    "\n",
    "n = len(time)\n",
    "\n",
    "for alpha in alphas:\n",
    "    for _ in range(5):\n",
    "        W1 = Wnij(n, kappa, alpha)\n",
    "        W2 = Wni(n)\n",
    "        X = np.array([X_sum(n, i, kappa, gamma_kernel, alpha, W1, W2, (1,)) for i in range(n)])\n",
    "        plt.plot(time, X, label = f'alpha = {alpha}')\n",
    "        plt.show()"
   ]
  }
 ],
 "metadata": {
  "kernelspec": {
   "display_name": "Python 3",
   "language": "python",
   "name": "python3"
  },
  "language_info": {
   "codemirror_mode": {
    "name": "ipython",
    "version": 3
   },
   "file_extension": ".py",
   "mimetype": "text/x-python",
   "name": "python",
   "nbconvert_exporter": "python",
   "pygments_lexer": "ipython3",
   "version": "3.11.2"
  },
  "orig_nbformat": 4
 },
 "nbformat": 4,
 "nbformat_minor": 2
}
