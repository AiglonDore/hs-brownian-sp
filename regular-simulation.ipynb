{
 "cells": [
  {
   "attachments": {},
   "cell_type": "markdown",
   "metadata": {},
   "source": [
    "# Regular simulation\n",
    "We want here to simulate a regular Brownian motion.\n",
    "Then, we will try to simulate a fractional Brownian motion.\n",
    "\n",
    "## Importing packages"
   ]
  },
  {
   "cell_type": "code",
   "execution_count": null,
   "metadata": {},
   "outputs": [],
   "source": [
    "import numpy as np\n",
    "import matplotlib.pyplot as plt\n",
    "%matplotlib inline"
   ]
  },
  {
   "attachments": {},
   "cell_type": "markdown",
   "metadata": {},
   "source": [
    "## Simulating a regular Brownian motion"
   ]
  },
  {
   "cell_type": "code",
   "execution_count": null,
   "metadata": {},
   "outputs": [],
   "source": [
    "plt.figure(figsize=(15, 9))\n",
    "plt.title('Simulating Brownian Motion')\n",
    "\n",
    "for n in range(5):\n",
    "    W = [0]\n",
    "    for i in range(1,1000):\n",
    "        W.append(W[i-1] + np.random.normal(0, 1))\n",
    "    plt.plot(range(1000), W, label=f'W{n+1}')\n",
    "\n",
    "plt.legend()\n",
    "plt.show()"
   ]
  },
  {
   "attachments": {},
   "cell_type": "markdown",
   "metadata": {},
   "source": [
    "## Simulating a fractional Brownian motion\n",
    "Now, we are going to simulate a fractional Brownian motion.\n",
    "For that, we know:\n",
    "$$\\operatorname{Cov}(X_t, X_s) = \\frac12 \\left(t^{2\\alpha} + s^{2\\alpha} - \\left|t-s\\right|^{2\\alpha}\\right)$$\n",
    "where $\\alpha$ is the Hurst parameter.\n",
    "- If $\\alpha=\\frac 12$, then we have a regular Brownian motion.\n",
    "- If $\\alpha<\\frac12$, then all increments are negatively correlated.\n",
    "- If $\\alpha>\\frac12$, then all increments are positively correlated.\n",
    "\n",
    "Then, we will use the Cholesky decomposition to simulate a fractional Brownian motion."
   ]
  },
  {
   "cell_type": "code",
   "execution_count": null,
   "metadata": {},
   "outputs": [],
   "source": [
    "alphas = [0.3, 0.5, 0.8] # Quelques valeurs de alpha\n",
    "\n",
    "N = 10 # Nombre de points de discrétisation\n",
    "\n",
    "time = np.linspace(0,10,N) # Temps de discrétisation\n",
    "\n",
    "for alpha in alphas:\n",
    "    plt.figure(figsize=(15, 9))\n",
    "    plt.title(f'Simulating Geometric Brownian Motion with alpha = {alpha}')\n",
    "    mat_cov = np.zeros((N, N))\n",
    "    \n",
    "    for (t,s) in np.ndindex(mat_cov.shape):\n",
    "        mat_cov[t,s] = 0.5 * (time[t] ** (2 * alpha) + time[s] ** (2 * alpha) - np.abs(time[t] - time[s]) ** (2 * alpha))\n",
    "    \n",
    "    print(mat_cov)\n",
    "    \n",
    "    C = np.linalg.cholesky(mat_cov)\n",
    "    \n",
    "    for i in range(5):\n",
    "        Y = np.dot(C, np.random.normal(0, 1, N))\n",
    "        Y[0] = 0\n",
    "        plt.plot(time, Y, label=f'W{i+1}')\n",
    "    \n",
    "    plt.legend()\n",
    "    plt.show()"
   ]
  }
 ],
 "metadata": {
  "kernelspec": {
   "display_name": "Python 3",
   "language": "python",
   "name": "python3"
  },
  "language_info": {
   "codemirror_mode": {
    "name": "ipython",
    "version": 3
   },
   "file_extension": ".py",
   "mimetype": "text/x-python",
   "name": "python",
   "nbconvert_exporter": "python",
   "pygments_lexer": "ipython3",
   "version": "3.11.2"
  },
  "orig_nbformat": 4
 },
 "nbformat": 4,
 "nbformat_minor": 2
}
